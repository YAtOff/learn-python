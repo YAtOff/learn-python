{
 "cells": [
  {
   "cell_type": "markdown",
   "metadata": {},
   "source": [
    "# Web APIs и JSON\n",
    "Тази лекция трябва да отговори на въпроса какво е API и по-специално Web API и какво е JSON.\n",
    "\n",
    "API идва от Application Programing Interface и за да разберете какво значи, трябва да разберете какво значи думичката `интерфейс`.  \n",
    "Най-просто казано интерфейса е това, което ни дава даден обект, за да ни позволи да го използваме.  \n",
    "По конкретно в порграмиратето АПИ са функциите, които позволяват на програмиста да работи\n",
    "с даден обект, библиотека, програма, операционната система или друго.  \n",
    "Сигурно се досещате, че Web API е API достъпно в интернет.\n",
    "\n",
    "Например сайтът https://fixer.io/ дава информация за валутни курсове.  \n",
    "Можем да прочетем курсовете, които сайта ни дава с помощта на Python и библиотеката `urllib`."
   ]
  },
  {
   "cell_type": "code",
   "execution_count": 2,
   "metadata": {},
   "outputs": [
    {
     "name": "stdout",
     "output_type": "stream",
     "text": [
      "b'{\"base\":\"EUR\",\"date\":\"2018-03-23\",\"rates\":{\"AUD\":1.5978,\"BGN\":1.9558,\"BRL\":4.0726,\"CAD\":1.5868,\"CHF\":1.1703,\"CNY\":7.7975,\"CZK\":25.405,\"DKK\":7.4478,\"GBP\":0.87285,\"HKD\":9.6889,\"HRK\":7.4398,\"HUF\":312.9,\"IDR\":16993.0,\"ILS\":4.2984,\"INR\":80.255,\"ISK\":122.1,\"JPY\":129.74,\"KRW\":1330.3,\"MXN\":22.88,\"MYR\":4.8365,\"NOK\":9.5715,\"NZD\":1.7024,\"PHP\":64.64,\"PLN\":4.2262,\"RON\":4.663,\"RUB\":70.539,\"SEK\":10.194,\"SGD\":1.6216,\"THB\":38.495,\"TRY\":4.888,\"USD\":1.2346,\"ZAR\":14.52}}'\n"
     ]
    }
   ],
   "source": [
    "import urllib.request\n",
    "\n",
    "response = urllib.request.urlopen('http://api.fixer.io/latest')\n",
    "data = response.read()\n",
    "print (data)"
   ]
  },
  {
   "cell_type": "markdown",
   "metadata": {},
   "source": [
    "Както виждате сайта връща данните във формат, труден за разчитане от човек, но много наподобяващ речник от Python.  \n",
    "Това е така нареченият JSON (JavaScript Object Notation) и той се е наложил като стандарт за обмен на данни.  \n",
    "Хубавото за нас е, че JSON може директно да се съпостави с типовете в Python. За целта използваме модула `json`."
   ]
  },
  {
   "cell_type": "markdown",
   "metadata": {},
   "source": [
    "JSON | Python\n",
    "--- | ---\n",
    "object | dict\n",
    "array | list\n",
    "string | str\n",
    "number (int) | int\n",
    "number (real) | float\n",
    "true | True\n",
    "false | False\n",
    "null | None \n"
   ]
  },
  {
   "cell_type": "code",
   "execution_count": 3,
   "metadata": {},
   "outputs": [
    {
     "name": "stdout",
     "output_type": "stream",
     "text": [
      "{\n",
      "    \"речник\": {\n",
      "        \"списък\": [1, 2, 3],\n",
      "        \"текст\": \"още текст\",\n",
      "        \"цяло число\": 1,\n",
      "        \"реално число\": 1.5,\n",
      "        \"истина\": true,\n",
      "        \"лъжа\": false,\n",
      "        \"нищо\": null\n",
      "    }\n",
      "\n",
      "}\n",
      "{'речник': {'истина': True,\n",
      "            'лъжа': False,\n",
      "            'нищо': None,\n",
      "            'реално число': 1.5,\n",
      "            'списък': [1, 2, 3],\n",
      "            'текст': 'още текст',\n",
      "            'цяло число': 1}}\n"
     ]
    }
   ],
   "source": [
    "import json\n",
    "import pprint\n",
    "\n",
    "json_data = '''{\n",
    "    \"речник\": {\n",
    "        \"списък\": [1, 2, 3],\n",
    "        \"текст\": \"още текст\",\n",
    "        \"цяло число\": 1,\n",
    "        \"реално число\": 1.5,\n",
    "        \"истина\": true,\n",
    "        \"лъжа\": false,\n",
    "        \"нищо\": null\n",
    "    }\n",
    "\n",
    "}'''\n",
    "print(json_data)\n",
    "\n",
    "\n",
    "python_data = json.loads(json_data)\n",
    "pprint.pprint(python_data)"
   ]
  },
  {
   "cell_type": "code",
   "execution_count": 4,
   "metadata": {},
   "outputs": [
    {
     "name": "stdout",
     "output_type": "stream",
     "text": [
      "{'base': 'EUR',\n",
      " 'date': '2018-03-23',\n",
      " 'rates': {'AUD': 1.5978,\n",
      "           'BGN': 1.9558,\n",
      "           'BRL': 4.0726,\n",
      "           'CAD': 1.5868,\n",
      "           'CHF': 1.1703,\n",
      "           'CNY': 7.7975,\n",
      "           'CZK': 25.405,\n",
      "           'DKK': 7.4478,\n",
      "           'GBP': 0.87285,\n",
      "           'HKD': 9.6889,\n",
      "           'HRK': 7.4398,\n",
      "           'HUF': 312.9,\n",
      "           'IDR': 16993.0,\n",
      "           'ILS': 4.2984,\n",
      "           'INR': 80.255,\n",
      "           'ISK': 122.1,\n",
      "           'JPY': 129.74,\n",
      "           'KRW': 1330.3,\n",
      "           'MXN': 22.88,\n",
      "           'MYR': 4.8365,\n",
      "           'NOK': 9.5715,\n",
      "           'NZD': 1.7024,\n",
      "           'PHP': 64.64,\n",
      "           'PLN': 4.2262,\n",
      "           'RON': 4.663,\n",
      "           'RUB': 70.539,\n",
      "           'SEK': 10.194,\n",
      "           'SGD': 1.6216,\n",
      "           'THB': 38.495,\n",
      "           'TRY': 4.888,\n",
      "           'USD': 1.2346,\n",
      "           'ZAR': 14.52}}\n",
      "1 EUR is 1.955800 lev\n",
      "1 EUR is 1.234600 dollars\n"
     ]
    }
   ],
   "source": [
    "# Така преобразуваме текст, форматиран като JSON в Python обект\n",
    "data_dict = json.loads(data)\n",
    "# data вече е речник\n",
    "pprint.pprint(data_dict)\n",
    "rates = data_dict['rates']\n",
    "print('1 EUR is %f lev' % rates['BGN'])\n",
    "print('1 EUR is %f dollars' % rates['USD'])"
   ]
  },
  {
   "cell_type": "markdown",
   "metadata": {},
   "source": [
    "## Ето още един пример - Web APIs предоставящо база данни с кучета"
   ]
  },
  {
   "cell_type": "code",
   "execution_count": 5,
   "metadata": {},
   "outputs": [
    {
     "name": "stdout",
     "output_type": "stream",
     "text": [
      "{'message': {'affenpinscher': [],\n",
      "             'african': [],\n",
      "             'airedale': [],\n",
      "             'akita': [],\n",
      "             'appenzeller': [],\n",
      "             'basenji': [],\n",
      "             'beagle': [],\n",
      "             'bluetick': [],\n",
      "             'borzoi': [],\n",
      "             'bouvier': [],\n",
      "             'boxer': [],\n",
      "             'brabancon': [],\n",
      "             'briard': [],\n",
      "             'bulldog': ['boston', 'french'],\n",
      "             'bullterrier': ['staffordshire'],\n",
      "             'cairn': [],\n",
      "             'chihuahua': [],\n",
      "             'chow': [],\n",
      "             'clumber': [],\n",
      "             'collie': ['border'],\n",
      "             'coonhound': [],\n",
      "             'corgi': ['cardigan'],\n",
      "             'dachshund': [],\n",
      "             'dane': ['great'],\n",
      "             'deerhound': ['scottish'],\n",
      "             'dhole': [],\n",
      "             'dingo': [],\n",
      "             'doberman': [],\n",
      "             'elkhound': ['norwegian'],\n",
      "             'entlebucher': [],\n",
      "             'eskimo': [],\n",
      "             'germanshepherd': [],\n",
      "             'greyhound': ['italian'],\n",
      "             'groenendael': [],\n",
      "             'hound': ['Ibizan',\n",
      "                       'afghan',\n",
      "                       'basset',\n",
      "                       'blood',\n",
      "                       'english',\n",
      "                       'walker'],\n",
      "             'husky': [],\n",
      "             'keeshond': [],\n",
      "             'kelpie': [],\n",
      "             'komondor': [],\n",
      "             'kuvasz': [],\n",
      "             'labrador': [],\n",
      "             'leonberg': [],\n",
      "             'lhasa': [],\n",
      "             'malamute': [],\n",
      "             'malinois': [],\n",
      "             'maltese': [],\n",
      "             'mastiff': ['bull', 'tibetan'],\n",
      "             'mexicanhairless': [],\n",
      "             'mountain': ['bernese', 'swiss'],\n",
      "             'newfoundland': [],\n",
      "             'otterhound': [],\n",
      "             'papillon': [],\n",
      "             'pekinese': [],\n",
      "             'pembroke': [],\n",
      "             'pinscher': ['miniature'],\n",
      "             'pointer': ['german'],\n",
      "             'pomeranian': [],\n",
      "             'poodle': ['miniature', 'standard', 'toy'],\n",
      "             'pug': [],\n",
      "             'pyrenees': [],\n",
      "             'redbone': [],\n",
      "             'retriever': ['chesapeake', 'curly', 'flatcoated', 'golden'],\n",
      "             'ridgeback': ['rhodesian'],\n",
      "             'rottweiler': [],\n",
      "             'saluki': [],\n",
      "             'samoyed': [],\n",
      "             'schipperke': [],\n",
      "             'schnauzer': ['giant', 'miniature'],\n",
      "             'setter': ['english', 'gordon', 'irish'],\n",
      "             'sheepdog': ['english', 'shetland'],\n",
      "             'shiba': [],\n",
      "             'shihtzu': [],\n",
      "             'spaniel': ['blenheim',\n",
      "                         'brittany',\n",
      "                         'cocker',\n",
      "                         'irish',\n",
      "                         'japanese',\n",
      "                         'sussex',\n",
      "                         'welsh'],\n",
      "             'springer': ['english'],\n",
      "             'stbernard': [],\n",
      "             'terrier': ['american',\n",
      "                         'australian',\n",
      "                         'bedlington',\n",
      "                         'border',\n",
      "                         'dandie',\n",
      "                         'fox',\n",
      "                         'irish',\n",
      "                         'kerryblue',\n",
      "                         'lakeland',\n",
      "                         'norfolk',\n",
      "                         'norwich',\n",
      "                         'patterdale',\n",
      "                         'scottish',\n",
      "                         'sealyham',\n",
      "                         'silky',\n",
      "                         'tibetan',\n",
      "                         'toy',\n",
      "                         'westhighland',\n",
      "                         'wheaten',\n",
      "                         'yorkshire'],\n",
      "             'vizsla': [],\n",
      "             'weimaraner': [],\n",
      "             'whippet': [],\n",
      "             'wolfhound': ['irish']},\n",
      " 'status': 'success'}\n"
     ]
    }
   ],
   "source": [
    "response = urllib.request.urlopen('https://dog.ceo/api/breeds/list/all')\n",
    "data = json.loads(response.read())\n",
    "pprint.pprint(data)"
   ]
  },
  {
   "cell_type": "code",
   "execution_count": 12,
   "metadata": {},
   "outputs": [
    {
     "data": {
      "text/html": [
       "<img src=\"https://dog.ceo/api/img/husky/n02110185_10047.jpg\"/>"
      ],
      "text/plain": [
       "<IPython.core.display.Image object>"
      ]
     },
     "metadata": {},
     "output_type": "display_data"
    },
    {
     "data": {
      "text/html": [
       "<img src=\"https://dog.ceo/api/img/husky/n02110185_10116.jpg\"/>"
      ],
      "text/plain": [
       "<IPython.core.display.Image object>"
      ]
     },
     "metadata": {},
     "output_type": "display_data"
    },
    {
     "data": {
      "text/html": [
       "<img src=\"https://dog.ceo/api/img/husky/n02110185_10171.jpg\"/>"
      ],
      "text/plain": [
       "<IPython.core.display.Image object>"
      ]
     },
     "metadata": {},
     "output_type": "display_data"
    },
    {
     "data": {
      "text/html": [
       "<img src=\"https://dog.ceo/api/img/husky/n02110185_10175.jpg\"/>"
      ],
      "text/plain": [
       "<IPython.core.display.Image object>"
      ]
     },
     "metadata": {},
     "output_type": "display_data"
    },
    {
     "data": {
      "text/html": [
       "<img src=\"https://dog.ceo/api/img/husky/n02110185_10273.jpg\"/>"
      ],
      "text/plain": [
       "<IPython.core.display.Image object>"
      ]
     },
     "metadata": {},
     "output_type": "display_data"
    }
   ],
   "source": [
    "from IPython.display import Image, display\n",
    "\n",
    "response = urllib.request.urlopen('https://dog.ceo/api/breed/husky/images')\n",
    "data = json.loads(response.read())\n",
    "first_5 = data['message'][:5]\n",
    "for image_url in first_5:\n",
    "    display(Image(url=image_url))\n"
   ]
  }
 ],
 "metadata": {
  "kernelspec": {
   "display_name": "Python 3",
   "language": "python",
   "name": "python3"
  },
  "language_info": {
   "codemirror_mode": {
    "name": "ipython",
    "version": 3
   },
   "file_extension": ".py",
   "mimetype": "text/x-python",
   "name": "python",
   "nbconvert_exporter": "python",
   "pygments_lexer": "ipython3",
   "version": "3.6.3"
  }
 },
 "nbformat": 4,
 "nbformat_minor": 2
}
