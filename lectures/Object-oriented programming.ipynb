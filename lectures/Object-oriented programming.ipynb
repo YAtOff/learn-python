{
 "cells": [
  {
   "cell_type": "markdown",
   "metadata": {},
   "source": [
    "# Обектно-ориентирано програмиране"
   ]
  },
  {
   "cell_type": "markdown",
   "metadata": {},
   "source": [
    "Нека се опитаме да пресъздадем състезание между автомобили в компютърна програма.  \n",
    "За да го направим ще трябва да представим автомобилите по някакъв начин в нашата програма.  \n",
    "Добре, да започваме. Какво има в един автомибил?  \n",
    "Шаси, 4 гуми, прозорци, врати, фарове, огледала, чистачки, багажник, резервна гума ...  \n",
    "Нещата започнаха да стават доста сложни.  \n",
    "Дорбре всъщност имаме ли нужда от тези всички тези неща?  \n",
    "С какво ще ни помогне това че знаем колко врати има автомобила?  \n",
    "Ами с нищо. И затова трябва да игнорираме всичко, което не ни е нужно за да решим проблема.\n",
    "Игнорирането на ненужните детайли и извличането на съществените се нарича `абстракция` и едно\n",
    "от най-важните и най-трудни за научаване неща в програмирането.  \n",
    "Та да се върнем на нашата кола. Какво е нужно наистина да занем за нея?  \n",
    "Ами зависи от това колко реалистично искеме да представим състезанието.\n",
    "В нашия случай автомобилите ще имат само две свойства:\n",
    " - скорост\n",
    " - изминат път\n",
    " - име, за да ги отличаваме един от друг\n",
    "\n",
    "Добре как ще представим автомобилите в Python код.  \n",
    "Python e т.н. обектно-ориентиран език за програмиране и най-естествения начин е да ги представим като обекти.\n",
    "Какво е `обкет`?  \n",
    "`Обект` е `нещо` (не се безпокойте, ще дам конкретен пример), което има определени свойства и поведение.  \n",
    "Замислете се - в реалния свят всяко нещо има свойства и поведение, т. е. може да представим всичко като обект.\n",
    "Помислете за реални примери за обекти.  \n",
    "Ето няколко:\n",
    "* Птица - свойства: вид, възраст, тегло; поведение - лети, спи, храни се\n",
    "* Топка - свойства: радиус, тегло; поведение - движи се\n",
    "* `...`\n",
    "\n",
    "Как се работи с обекти в Python.  \n",
    "Нека сме създали нашия обект автомобил наречен `car` (ще разберете как след малко).  \n",
    "Достъпът до свойстовa (атрибути, property) става с оператор `.`  \n",
    "\n",
    "```\n",
    "car.speed  # това е скоростта на автомобила\n",
    "car.pat  # това е пътя изминат от автомобила\n",
    "car.name  #това е името на автомобила\n",
    "```\n",
    "\n",
    "Поведението на обектите се изразява чрез т. н. методи. Методите са просто функции, които имат лесен достъп до обекта.\n",
    "Методите се извикват както функции.\n",
    "\n",
    "```\n",
    "car.move()\n",
    "```\n",
    "\n",
    "Добре как се създават обекти. За целта се изплзват класове.  \n",
    "Най-просто казано класът е шаблон, по който се създават обекти.  \n",
    "В Python клас се дефинира по следния начин:"
   ]
  },
  {
   "cell_type": "code",
   "execution_count": 2,
   "metadata": {},
   "outputs": [],
   "source": [
    "class Car:\n",
    "\n",
    "    def __init__(self, name, speed):\n",
    "        \"\"\"\n",
    "        Този метод е по-специален. Той се извиква при създаване на обекта.\n",
    "        Той дава начална стойност на атрибутите на обекта.\n",
    "        \"\"\"\n",
    "        self.name = name\n",
    "        self.speed = speed\n",
    "        self.path = 0\n",
    "\n",
    "    def move(self):\n",
    "        \"\"\"\n",
    "        Това е метод. Дефинира се по същия начин както функция.\n",
    "        Разликата е, че той получавас параметър `self`, който е самия обект\n",
    "        \"\"\"\n",
    "        self.path = self.path + self.speed\n",
    "        print('Car %s has traveled %d km' % (self.name, self.path))"
   ]
  },
  {
   "cell_type": "markdown",
   "metadata": {},
   "source": [
    "В Python обект се създава по следния начин:"
   ]
  },
  {
   "cell_type": "code",
   "execution_count": 3,
   "metadata": {},
   "outputs": [],
   "source": [
    "car1 = Car('car1', 10)  # това извиква `__init__` с аргументи name='car1' и speed=10\n",
    "car2 = Car('car2', 15)  # това извиква `__init__` с аргументи name='car2' и speed=15"
   ]
  },
  {
   "cell_type": "markdown",
   "metadata": {},
   "source": [
    "И сега може да си организираме състезание."
   ]
  },
  {
   "cell_type": "code",
   "execution_count": 4,
   "metadata": {},
   "outputs": [
    {
     "name": "stdout",
     "output_type": "stream",
     "text": [
      "Car car1 has traveled 10 km\n",
      "Car car2 has traveled 15 km\n",
      "Car car1 has traveled 20 km\n",
      "Car car2 has traveled 30 km\n",
      "Car car1 has traveled 30 km\n",
      "Car car2 has traveled 45 km\n",
      "Car car1 has traveled 40 km\n",
      "Car car2 has traveled 60 km\n",
      "Car car1 has traveled 50 km\n",
      "Car car2 has traveled 75 km\n",
      "Car car1 has traveled 60 km\n",
      "Car car2 has traveled 90 km\n",
      "Car car1 has traveled 70 km\n",
      "Car car2 has traveled 105 km\n",
      "Car car2 wins\n"
     ]
    }
   ],
   "source": [
    "cars = [car1, car2]\n",
    "\n",
    "has_winner = False\n",
    "while not has_winner:\n",
    "    for car in cars:\n",
    "        car.move()\n",
    "        if car.path > 100:\n",
    "            print('Car %s wins' % car.name)\n",
    "            has_winner = True"
   ]
  },
  {
   "cell_type": "markdown",
   "metadata": {},
   "source": [
    "## Сега е ваш ред.\n",
    "\n",
    "Дефинирайте калс, който представя дистанционно управление за телевизор.\n",
    "Той трябва да има атрибути за номер на канал и ниво на звука.\n",
    "Пример за използване:"
   ]
  },
  {
   "cell_type": "code",
   "execution_count": 5,
   "metadata": {},
   "outputs": [
    {
     "ename": "NameError",
     "evalue": "name 'RemoteControl' is not defined",
     "output_type": "error",
     "traceback": [
      "\u001b[0;31m\u001b[0m",
      "\u001b[0;31mNameError\u001b[0mTraceback (most recent call last)",
      "\u001b[0;32m<ipython-input-5-9ac409430f00>\u001b[0m in \u001b[0;36m<module>\u001b[0;34m()\u001b[0m\n\u001b[0;32m----> 1\u001b[0;31m \u001b[0mremote_control\u001b[0m \u001b[0;34m=\u001b[0m \u001b[0mRemoteControl\u001b[0m\u001b[0;34m(\u001b[0m\u001b[0;34m)\u001b[0m\u001b[0;34m\u001b[0m\u001b[0m\n\u001b[0m\u001b[1;32m      2\u001b[0m \u001b[0mprint\u001b[0m\u001b[0;34m(\u001b[0m\u001b[0mremote_control\u001b[0m\u001b[0;34m.\u001b[0m\u001b[0mchannel_number\u001b[0m\u001b[0;34m)\u001b[0m\u001b[0;34m\u001b[0m\u001b[0m\n\u001b[1;32m      3\u001b[0m \u001b[0;31m# трябва да изпечата 1\u001b[0m\u001b[0;34m\u001b[0m\u001b[0;34m\u001b[0m\u001b[0m\n\u001b[1;32m      4\u001b[0m \u001b[0mremote_control\u001b[0m\u001b[0;34m.\u001b[0m\u001b[0mchannel_up\u001b[0m\u001b[0;34m(\u001b[0m\u001b[0;34m)\u001b[0m\u001b[0;34m\u001b[0m\u001b[0m\n\u001b[1;32m      5\u001b[0m \u001b[0mprint\u001b[0m\u001b[0;34m(\u001b[0m\u001b[0mremote_control\u001b[0m\u001b[0;34m.\u001b[0m\u001b[0mchannel_number\u001b[0m\u001b[0;34m)\u001b[0m\u001b[0;34m\u001b[0m\u001b[0m\n",
      "\u001b[0;31mNameError\u001b[0m: name 'RemoteControl' is not defined"
     ]
    }
   ],
   "source": [
    "remote_control = RemoteControl()\n",
    "print(remote_control.channel_number)\n",
    "# трябва да изпечата 1\n",
    "remote_control.channel_up()\n",
    "print(remote_control.channel_number)\n",
    "# трябва да изпечата 2\n",
    "print(remote_control.volume)\n",
    "# трябва да изпечата 50\n",
    "remote_control.volume_up()\n",
    "print(remote_control.volume)\n",
    "# трябва да изпечата 51\n",
    "remote_control.mute()\n",
    "print(remote_control.volume)\n",
    "# трябва да изпечата 0"
   ]
  }
 ],
 "metadata": {
  "kernelspec": {
   "display_name": "Python 3",
   "language": "python",
   "name": "python3"
  },
  "language_info": {
   "codemirror_mode": {
    "name": "ipython",
    "version": 3
   },
   "file_extension": ".py",
   "mimetype": "text/x-python",
   "name": "python",
   "nbconvert_exporter": "python",
   "pygments_lexer": "ipython3",
   "version": "3.6.3"
  }
 },
 "nbformat": 4,
 "nbformat_minor": 2
}
