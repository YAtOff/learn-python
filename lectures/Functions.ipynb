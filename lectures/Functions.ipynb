{
 "cells": [
  {
   "cell_type": "markdown",
   "metadata": {},
   "source": [
    "## Функции"
   ]
  },
  {
   "cell_type": "markdown",
   "metadata": {},
   "source": [
    "### Извикване на функция\n",
    "\n",
    "```\n",
    "<<име на функция>>(<<аргументи>>)\n",
    "```\n",
    "\n",
    "Някои познати функции:"
   ]
  },
  {
   "cell_type": "code",
   "execution_count": null,
   "metadata": {},
   "outputs": [],
   "source": [
    "int(\"1\")"
   ]
  },
  {
   "cell_type": "code",
   "execution_count": null,
   "metadata": {},
   "outputs": [],
   "source": [
    "from random import randint\n",
    "randint(1, 100)"
   ]
  },
  {
   "cell_type": "code",
   "execution_count": null,
   "metadata": {},
   "outputs": [],
   "source": [
    "print(\"Hi\")"
   ]
  },
  {
   "cell_type": "markdown",
   "metadata": {},
   "source": [
    "### Дефиниране на функция\n",
    "\n",
    "```\n",
    "def <<име на функция>>(<<параметри>>):\n",
    "    <<тяло на функция>>\n",
    "```\n",
    "\n",
    "`return` връща резултат.  \n",
    "Функцията може и да не връща резултат."
   ]
  },
  {
   "cell_type": "code",
   "execution_count": 2,
   "metadata": {
    "collapsed": true
   },
   "outputs": [],
   "source": [
    "def absolute(number):\n",
    "    if number < 0:\n",
    "        return -number\n",
    "    else:\n",
    "        return number"
   ]
  },
  {
   "cell_type": "code",
   "execution_count": 3,
   "metadata": {},
   "outputs": [
    {
     "data": {
      "text/plain": [
       "10"
      ]
     },
     "execution_count": 3,
     "metadata": {},
     "output_type": "execute_result"
    }
   ],
   "source": [
    "absolute(10)"
   ]
  },
  {
   "cell_type": "code",
   "execution_count": 4,
   "metadata": {},
   "outputs": [
    {
     "data": {
      "text/plain": [
       "1"
      ]
     },
     "execution_count": 4,
     "metadata": {},
     "output_type": "execute_result"
    }
   ],
   "source": [
    "absolute(-1)"
   ]
  },
  {
   "cell_type": "markdown",
   "metadata": {},
   "source": [
    "### Защо да използваме функции\n",
    "- Преизползване на код\n",
    "- По добра организация на програмата"
   ]
  },
  {
   "cell_type": "markdown",
   "metadata": {},
   "source": [
    "*Упражнение*: да се напише програма, която за дадено цяло число N, изписва следният триъгълник:\n",
    "        \n",
    "```\n",
    "N = 5\n",
    "\n",
    "1\n",
    "1 2\n",
    "1 2 3\n",
    "1 2 3 4\n",
    "1 2 3 4 5\n",
    "1 2 3 4\n",
    "1 2 3\n",
    "1 2\n",
    "1\n",
    "```"
   ]
  },
  {
   "cell_type": "code",
   "execution_count": 5,
   "metadata": {},
   "outputs": [
    {
     "name": "stdout",
     "output_type": "stream",
     "text": [
      "N = 4\n",
      "1 \n",
      "1 2 \n",
      "1 2 3 \n",
      "1 2 3 4 \n",
      "1 2 3 \n",
      "1 2 \n",
      "1 \n"
     ]
    }
   ],
   "source": [
    "def print_numbers_in_range(start, end):\n",
    "    counter = start\n",
    "    while counter <= end:\n",
    "        print(counter, end=' ')\n",
    "        counter = counter + 1\n",
    "\n",
    "n = int(input('N = '))\n",
    "\n",
    "counter = 1\n",
    "while counter <= n:\n",
    "    print_numbers_in_range(1, counter)\n",
    "    print()\n",
    "    counter += 1\n",
    "\n",
    "counter = n - 1\n",
    "while 1 <= counter:\n",
    "    print_numbers_in_range(1, counter)\n",
    "    print()\n",
    "    counter -= 1"
   ]
  },
  {
   "cell_type": "markdown",
   "metadata": {},
   "source": [
    "Задачата изглежда сложна и за да я решим трябва да се опитаме да я разбием на по-просит парчета.\n",
    "Вижда се, че имаме принтиране на поредица от числа в ред:\n",
    "- 1\n",
    "- 1 2\n",
    "- 1 2 3\n",
    "- и. т. н.\n",
    "\n",
    "а това е задача, която знаем как да решим.  \n",
    "Можем лесно да изнесем решението на подзадачата за принтиране на поредица от числа във функция \n",
    "наречена `print_numbers_in_range`.  \n",
    "След като имаме тази функция трябва да я извикаме с аргументи 1, 2, 3, ..., N, т\n",
    ". е да я извикаме в цикъл от 1 до N.  \n",
    "След това функциятя трябва да се извика с аргументи N-1, N-2, ..., 1, \n",
    ". е. отнов се извиква в цикъл, но този път от N-1 до 1.\n"
   ]
  }
 ],
 "metadata": {
  "kernelspec": {
   "display_name": "Python 3",
   "language": "python",
   "name": "python3"
  },
  "language_info": {
   "codemirror_mode": {
    "name": "ipython",
    "version": 3
   },
   "file_extension": ".py",
   "mimetype": "text/x-python",
   "name": "python",
   "nbconvert_exporter": "python",
   "pygments_lexer": "ipython3",
   "version": "3.6.3"
  }
 },
 "nbformat": 4,
 "nbformat_minor": 1
}
