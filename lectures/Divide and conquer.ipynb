{
 "cells": [
  {
   "cell_type": "markdown",
   "metadata": {},
   "source": [
    "## Решаваме на сллжни проблеми чрез разбиването им на по-малки"
   ]
  },
  {
   "cell_type": "code",
   "execution_count": 1,
   "metadata": {
    "collapsed": true
   },
   "outputs": [],
   "source": [
    "def max2(x1, x2):\n",
    "    if x1 < x2:\n",
    "        return x2\n",
    "    else:\n",
    "        return x1"
   ]
  },
  {
   "cell_type": "code",
   "execution_count": 2,
   "metadata": {
    "collapsed": true
   },
   "outputs": [],
   "source": [
    "def max4(x1, x2, x3, x4):\n",
    "    pass"
   ]
  },
  {
   "cell_type": "markdown",
   "metadata": {},
   "source": [
    "1. Разделяме на две двойки по две числа (x1, x2) и (x3, x4).\n",
    "2. Намираме максимума на двойките. Остават ни две числа (максимумите на двойките `pair1_max` и `pair2_max`).\n",
    "3. Вече занаме как да намерима максимума на две числа; използвайки това намираме резултата."
   ]
  },
  {
   "cell_type": "code",
   "execution_count": 3,
   "metadata": {
    "collapsed": false
   },
   "outputs": [
    {
     "data": {
      "text/plain": [
       "4"
      ]
     },
     "execution_count": 3,
     "metadata": {},
     "output_type": "execute_result"
    }
   ],
   "source": [
    "def max4(x1, x2, x3, x4):\n",
    "    pair1_max = max2(x1, x2)\n",
    "    pair2_max = max2(x3, x4)\n",
    "    result = max2(pair1_max, pair2_max)\n",
    "    return result\n",
    "\n",
    "max4(1, 2, 3, 4)"
   ]
  },
  {
   "cell_type": "markdown",
   "metadata": {},
   "source": [
    "С `return` можем да върнем какъвто и да е израз; не е нужно да се дефинира променлива за резултата"
   ]
  },
  {
   "cell_type": "code",
   "execution_count": null,
   "metadata": {
    "collapsed": true
   },
   "outputs": [],
   "source": [
    "def max4(x1, x2, x3, x4):\n",
    "    pair1_max = max2(x1, x2)\n",
    "    pair2_max = max2(x3, x4)\n",
    "    return max2(pair1_max, pair2_max)\n",
    "\n",
    "max4(1, 2, 3, 4)"
   ]
  },
  {
   "cell_type": "markdown",
   "metadata": {},
   "source": [
    "Извикването на функция (напр. `max2(x1, x2)`) е израз, който може да се използва като аргумент на друга функция.\n",
    "T.e не е нужно да дефинираме допълнителни променливи `pair1_max` и `pair2_max`.\n",
    "Тук първо ще се изчислят вътрешните изрази `max2(x1, x2)` и `max2(x3, x4)`, и с резултата от тях ще се изпълни\n",
    "външната функция."
   ]
  },
  {
   "cell_type": "code",
   "execution_count": null,
   "metadata": {
    "collapsed": true
   },
   "outputs": [],
   "source": [
    "def max4(x1, x2, x3, x4):\n",
    "    return max2(max2(x1, x2), max2(x3, x4))\n",
    "\n",
    "max4(1, 2, 3, 4)"
   ]
  },
  {
   "cell_type": "markdown",
   "metadata": {},
   "source": [
    "Използвайки `max4` лесно можем да дефинираме `avg_min3`, която намира средно-аритмитечното на трите по-малки чилса\n",
    "от четири."
   ]
  },
  {
   "cell_type": "code",
   "execution_count": 6,
   "metadata": {
    "collapsed": false
   },
   "outputs": [
    {
     "data": {
      "text/plain": [
       "2.0"
      ]
     },
     "execution_count": 6,
     "metadata": {},
     "output_type": "execute_result"
    }
   ],
   "source": [
    "def avg_min3(x1, x2, x3, x4):\n",
    "    sum4 = x1 + x2 + x3 + x4\n",
    "    sum_min3 = sum4 - max4(x1, x2, x3, x4)\n",
    "    return sum_min3 / 3\n",
    "\n",
    "avg_min3(1, 2, 3, 4)"
   ]
  }
 ],
 "metadata": {
  "kernelspec": {
   "display_name": "Python 3",
   "language": "python",
   "name": "python3"
  },
  "language_info": {
   "codemirror_mode": {
    "name": "ipython",
    "version": 3
   },
   "file_extension": ".py",
   "mimetype": "text/x-python",
   "name": "python",
   "nbconvert_exporter": "python",
   "pygments_lexer": "ipython3",
   "version": "3.4.3"
  }
 },
 "nbformat": 4,
 "nbformat_minor": 0
}
