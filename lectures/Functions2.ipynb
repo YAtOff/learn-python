{
 "cells": [
  {
   "cell_type": "markdown",
   "metadata": {},
   "source": [
    "## Функции\n",
    "### Дефиниране на функция\n",
    "\n",
    "```\n",
    "def <<име на функция>>(<<параметри>>):\n",
    "    <<тяло на функция>>\n",
    "```\n",
    "\n",
    "`return` връща резултат."
   ]
  },
  {
   "cell_type": "code",
   "execution_count": 1,
   "metadata": {},
   "outputs": [
    {
     "name": "stdout",
     "output_type": "stream",
     "text": [
      "2\n",
      "2\n",
      "1\n"
     ]
    }
   ],
   "source": [
    "def max2(a, b):\n",
    "    if a < b:\n",
    "        return b\n",
    "    else:\n",
    "        return a\n",
    "    \n",
    "# result получава стойността, която се връща от функцията с return\n",
    "result = max2(1, 2)\n",
    "print(result)\n",
    "\n",
    "# Може да използваме върнатия резултат и без да го присвояваме на променлива\n",
    "print(max2(2, 1))\n",
    "print(max2(1, 1))"
   ]
  },
  {
   "cell_type": "code",
   "execution_count": 2,
   "metadata": {},
   "outputs": [
    {
     "name": "stdout",
     "output_type": "stream",
     "text": [
      "2\n",
      "2\n"
     ]
    }
   ],
   "source": [
    "print(max2(1, 2))\n",
    "\n",
    "# е равносилно на\n",
    "\n",
    "a = 1\n",
    "b = 2\n",
    "if a < b:\n",
    "    print(b)\n",
    "else:\n",
    "    print(a)"
   ]
  },
  {
   "cell_type": "markdown",
   "metadata": {},
   "source": [
    "Параметрите `a` и `b` се заместват се `1` и `2` при извикване на `max2(1, 2)`."
   ]
  },
  {
   "cell_type": "code",
   "execution_count": 3,
   "metadata": {},
   "outputs": [
    {
     "name": "stdout",
     "output_type": "stream",
     "text": [
      "max2 called with: a = 1, b = 2\n"
     ]
    },
    {
     "data": {
      "text/plain": [
       "2"
      ]
     },
     "execution_count": 3,
     "metadata": {},
     "output_type": "execute_result"
    }
   ],
   "source": [
    "def max2(a, b):\n",
    "    print('max2 called with: a = %d, b = %d' % (a, b))\n",
    "    if a < b:\n",
    "        return b\n",
    "    else:\n",
    "        return a\n",
    "\n",
    "max2(1, 2)"
   ]
  },
  {
   "cell_type": "code",
   "execution_count": 5,
   "metadata": {},
   "outputs": [
    {
     "name": "stdout",
     "output_type": "stream",
     "text": [
      "max2_params called with: a = 1, b = 2\n"
     ]
    },
    {
     "data": {
      "text/plain": [
       "2"
      ]
     },
     "execution_count": 5,
     "metadata": {},
     "output_type": "execute_result"
    }
   ],
   "source": [
    "a = 4\n",
    "b = 5\n",
    "def max2_params(a, b):\n",
    "    # какви са стойностите на a и b?\n",
    "    print('max2_params called with: a = %d, b = %d' % (a, b))\n",
    "    if a < b:\n",
    "        return b\n",
    "    else:\n",
    "        return a\n",
    "\n",
    "max2_params(1, 2)"
   ]
  },
  {
   "cell_type": "code",
   "execution_count": 6,
   "metadata": {},
   "outputs": [
    {
     "name": "stdout",
     "output_type": "stream",
     "text": [
      "2\n",
      "None\n"
     ]
    }
   ],
   "source": [
    "def max2_just_return(a, b):\n",
    "    if a < b:\n",
    "        print(b)\n",
    "        return\n",
    "    else:\n",
    "        print(a)\n",
    "        return\n",
    "    \n",
    "bigger = max2_just_return(1, 2)\n",
    "# какво ще с отпечата?\n",
    "print(bigger)"
   ]
  },
  {
   "cell_type": "code",
   "execution_count": null,
   "metadata": {},
   "outputs": [],
   "source": [
    "def max2_return_none(a, b):\n",
    "    if a < b:\n",
    "        print(b)\n",
    "        return None\n",
    "    else:\n",
    "        print(a)\n",
    "        return None\n",
    "    \n",
    "bigger = max2_just_return(1, 2)\n",
    "print(bigger)"
   ]
  },
  {
   "cell_type": "code",
   "execution_count": 7,
   "metadata": {},
   "outputs": [
    {
     "name": "stdout",
     "output_type": "stream",
     "text": [
      "max2 called with: a = 1, b = 2\n",
      "max2 called with: a = 2, b = 3\n"
     ]
    },
    {
     "data": {
      "text/plain": [
       "3"
      ]
     },
     "execution_count": 7,
     "metadata": {},
     "output_type": "execute_result"
    }
   ],
   "source": [
    "def max3(a, b, c):\n",
    "    max_a_b = max2(a, b)\n",
    "    return max2(max_a_b, c)\n",
    "\n",
    "max3(1, 2, 3)"
   ]
  }
 ],
 "metadata": {
  "kernelspec": {
   "display_name": "Python 3",
   "language": "python",
   "name": "python3"
  },
  "language_info": {
   "codemirror_mode": {
    "name": "ipython",
    "version": 3
   },
   "file_extension": ".py",
   "mimetype": "text/x-python",
   "name": "python",
   "nbconvert_exporter": "python",
   "pygments_lexer": "ipython3",
   "version": "3.6.3"
  }
 },
 "nbformat": 4,
 "nbformat_minor": 1
}
